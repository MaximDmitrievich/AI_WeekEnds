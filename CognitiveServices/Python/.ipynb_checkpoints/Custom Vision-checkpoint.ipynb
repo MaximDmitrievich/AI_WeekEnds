{
 "cells": [
  {
   "cell_type": "markdown",
   "metadata": {},
   "source": [
    "# Лабораторная работа: Распознавание изображений\n",
    "\n",
    "## Задача: Создать сервис, который будет распознавать изображения багажа\n",
    "\n",
    "## Датасет: Пять видов багажа. Рюкзаки (Backpack), Сумки (Bag), Портфели (Briefcase), Ручные сумки (Handbag), Чемоданы (Suitcase)\n",
    "\n",
    "Custom Vision Service - это инструмент для создания кастомных классификаторов изображений. С помощью подготовленного датасета и библиотеки для работы с Custom Vision для Python создать сервис для распознавания изображений багажа. "
   ]
  },
  {
   "cell_type": "markdown",
   "metadata": {},
   "source": [
    "### Шаг 1. Импортирование библиотек и нужных инструментов из них\n",
    "\n",
    "Первым делом нам необходимо импортировать нужные нам инструменты из библиотеки для работы с Custom Vision\n",
    "\n",
    "Импортировать мы будем два инструмента - для тренировки модели и для работы с ней. \n",
    "\n",
    "Сперва импортируем инструменты для тренировки модели"
   ]
  },
  {
   "cell_type": "code",
   "execution_count": 2,
   "metadata": {},
   "outputs": [],
   "source": [
    "from azure.cognitiveservices.vision.customvision.training import training_api\n",
    "from azure.cognitiveservices.vision.customvision.training.models import ImageUrlCreateEntry"
   ]
  },
  {
   "cell_type": "markdown",
   "metadata": {},
   "source": [
    "Потом импортируем инструменты для работы с обученной моделью"
   ]
  },
  {
   "cell_type": "code",
   "execution_count": 4,
   "metadata": {},
   "outputs": [],
   "source": [
    "from azure.cognitiveservices.vision.customvision.prediction import prediction_endpoint\n",
    "from azure.cognitiveservices.vision.customvision.prediction.prediction_endpoint import models"
   ]
  },
  {
   "cell_type": "markdown",
   "metadata": {},
   "source": [
    "### Шаг 2. Инициализация трейнера и предиктора.\n",
    "\n",
    "Два основных объекта, с которыми мы будем работать - трейнер и предиктор. Первый поможет нам обучить модель, а второй поможет работать с моделью напрямую. Для работы с трейнером и предиктором нам нужны ключи для подключения к нашему сервису, развернутому на Azure.\n",
    "\n",
    "С помощью этих ключей мы сможем подключиться к сервису и получить возможность работать с моделью"
   ]
  },
  {
   "cell_type": "code",
   "execution_count": 7,
   "metadata": {},
   "outputs": [],
   "source": [
    "training_key = \"\"\n",
    "prediction_key = \"\""
   ]
  },
  {
   "cell_type": "markdown",
   "metadata": {},
   "source": [
    "Проинициализируем наши трейнер и предиктор."
   ]
  },
  {
   "cell_type": "code",
   "execution_count": 8,
   "metadata": {},
   "outputs": [],
   "source": [
    "trainer = training_api.TrainingApi(training_key)\n",
    "predictor = prediction_endpoint.PredictionEndpoint(prediction_key)"
   ]
  },
  {
   "cell_type": "markdown",
   "metadata": {},
   "source": [
    "Создадим проект"
   ]
  },
  {
   "cell_type": "code",
   "execution_count": 9,
   "metadata": {},
   "outputs": [],
   "source": [
    "project = trainer.create_project(\"AI_Weekend\")"
   ]
  },
  {
   "cell_type": "markdown",
   "metadata": {},
   "source": [
    "### Шаг 3. Подготовка тегов и загрузка данных.\n",
    "\n",
    "Поскольку объектов в нашем датасете много, нам необходимо для каждой фотографии подобрать подходящий ей тег. Тегом будет служить название вида багажа. Датасет с багажом будет находиться в папке ClearDataSet.\n",
    "\n",
    "Создадим несколько тегов."
   ]
  },
  {
   "cell_type": "code",
   "execution_count": 10,
   "metadata": {},
   "outputs": [],
   "source": [
    "Backpack_tag = trainer.create_tag(project.id, \"Backpack\")\n",
    "Bag_tag = trainer.create_tag(project.id, \"Bag\")\n",
    "Briefcase_tag = trainer.create_tag(project.id, \"Briefcase\")\n",
    "Handbag_tag = trainer.create_tag(project.id, \"Handbag\")\n",
    "Suitcase_tag = trainer.create_tag(project.id, \"Suitcase\")"
   ]
  },
  {
   "cell_type": "markdown",
   "metadata": {},
   "source": [
    "Теперь мы готовы загрузить наш размеченный датасет. Теперь нам понадобится библиотека для работы с файловой системой вашей машины."
   ]
  },
  {
   "cell_type": "code",
   "execution_count": 11,
   "metadata": {},
   "outputs": [],
   "source": [
    "import os"
   ]
  },
  {
   "cell_type": "markdown",
   "metadata": {},
   "source": [
    "Для удобства разметим словарь, который мы сможем однозначно перебрать, чтобы правильно загрузить наши изображения на сервис. Ключ будет являться путем к папке, а значение - id для тега."
   ]
  },
  {
   "cell_type": "code",
   "execution_count": 12,
   "metadata": {},
   "outputs": [],
   "source": [
    "rootdir = \"..\\\\ClearDataSet\\\\\" ##путь к папке с изображениями\n",
    "\n",
    "dir_n_tag_dict = {\n",
    "    \"Backpack\" : Backpack_tag.id,\n",
    "    \"Bag\" : Bag_tag.id,\n",
    "    \"Briefcase\" : Briefcase_tag.id,\n",
    "    \"Handbag\" : Handbag_tag.id,\n",
    "    \"Suitcase\" : Suitcase_tag.id\n",
    "}"
   ]
  },
  {
   "cell_type": "markdown",
   "metadata": {},
   "source": [
    "Теперь обойдем папки с изображениями. Сделаем два простых цикла, вложенных один в другой. Попутно будем загружать наши изображения на сервис под нужный нам тег."
   ]
  },
  {
   "cell_type": "code",
   "execution_count": 13,
   "metadata": {},
   "outputs": [],
   "source": [
    "for key in dir_n_tag_dict:\n",
    "    for image in os.listdir(os.fsencode(rootdir + key)):\n",
    "        with open(rootdir + key + \"\\\\\" + os.fsdecode(image), mode=\"rb\") as img_data:\n",
    "            trainer.create_images_from_data(project.id, img_data, [dir_n_tag_dict[key]])"
   ]
  },
  {
   "cell_type": "markdown",
   "metadata": {},
   "source": [
    "### Шаг 4. Тренировка модели.\n",
    "\n",
    "Настало время натренировать нашу модель! \n",
    "\n",
    "Обучение модели будет происходить несколькими итерациями. При запуске тренировки трейнер вернет нам первую итерацию. Пока обучение не будет закончено, метод, возвращающий итерацию будет возвращать статус \"training\"."
   ]
  },
  {
   "cell_type": "code",
   "execution_count": 14,
   "metadata": {},
   "outputs": [
    {
     "name": "stdout",
     "output_type": "stream",
     "text": [
      "training\n",
      "training status: Training\n",
      "training status: Training\n",
      "training status: Training\n",
      "training status: Training\n",
      "training status: Training\n",
      "training status: Training\n",
      "training status: Training\n",
      "training status: Training\n",
      "training status: Training\n",
      "training status: Completed\n"
     ]
    },
    {
     "data": {
      "text/plain": [
       "<azure.cognitiveservices.vision.customvision.training.models.iteration_py3.Iteration at 0x27317df57b8>"
      ]
     },
     "execution_count": 14,
     "metadata": {},
     "output_type": "execute_result"
    }
   ],
   "source": [
    "import time\n",
    "print(\"training\")\n",
    "\n",
    "iteration = trainer.train_project(project.id)\n",
    "\n",
    "while (iteration.status != \"Completed\"):\n",
    "    iteration = trainer.get_iteration(project.id, iteration.id)\n",
    "    print(\"training status: \" + iteration.status)\n",
    "    time.sleep(1)\n",
    "    \n",
    "trainer.update_iteration(project.id, iteration.id, is_default=True)"
   ]
  },
  {
   "cell_type": "markdown",
   "metadata": {},
   "source": [
    "### Шаг 5. Работа с обученной моделью.\n",
    "\n",
    "Теперь, обучив модель, попробуем дать ей на вход какой-нибудь пример, который она должна отгадать. "
   ]
  },
  {
   "cell_type": "markdown",
   "metadata": {},
   "source": [
    "#### Чемодан"
   ]
  },
  {
   "cell_type": "code",
   "execution_count": 16,
   "metadata": {},
   "outputs": [
    {
     "name": "stdout",
     "output_type": "stream",
     "text": [
      "\tSuitcase: 91.85%\n",
      "\tBag: 35.47%\n",
      "\tBriefcase: 25.86%\n",
      "\tHandbag: 2.52%\n",
      "\tBackpack: 0.56%\n"
     ]
    }
   ],
   "source": [
    "suitcase_url = \"https://images.ua.prom.st/409496703_w640_h640_aw8j0hfwwto.jpg\"\n",
    "\n",
    "results = predictor.predict_image_url(project.id, iteration.id, url=suitcase_url)\n",
    "\n",
    "for prediction in results.predictions:\n",
    "        print(\"\\t\" + prediction.tag_name + \": {0:.2f}%\".format(prediction.probability * 100))"
   ]
  },
  {
   "cell_type": "markdown",
   "metadata": {},
   "source": [
    "#### Рюкзак"
   ]
  },
  {
   "cell_type": "code",
   "execution_count": 17,
   "metadata": {},
   "outputs": [
    {
     "name": "stdout",
     "output_type": "stream",
     "text": [
      "\tBackpack: 87.00%\n",
      "\tSuitcase: 11.80%\n",
      "\tBag: 8.05%\n",
      "\tHandbag: 3.28%\n",
      "\tBriefcase: 0.03%\n"
     ]
    }
   ],
   "source": [
    "backpack_url = \"http://garsingshop.by/pics/catalog/product/img/1121_img.JPG\"\n",
    "\n",
    "results = predictor.predict_image_url(project.id, iteration.id, url=backpack_url)\n",
    "\n",
    "for prediction in results.predictions:\n",
    "        print(\"\\t\" + prediction.tag_name + \": {0:.2f}%\".format(prediction.probability * 100))"
   ]
  },
  {
   "cell_type": "markdown",
   "metadata": {},
   "source": [
    "#### Сумка"
   ]
  },
  {
   "cell_type": "code",
   "execution_count": 18,
   "metadata": {},
   "outputs": [
    {
     "name": "stdout",
     "output_type": "stream",
     "text": [
      "\tBag: 80.83%\n",
      "\tBackpack: 78.47%\n",
      "\tSuitcase: 7.83%\n",
      "\tHandbag: 6.94%\n",
      "\tBriefcase: 0.92%\n"
     ]
    }
   ],
   "source": [
    "bag_url = \"https://www.bodyboss.ru/upload/resize_cache/iblock/19e/1110_624_2/19e972d7ab8bdad21511b9db30a2e7e0.jpg\"\n",
    "\n",
    "results = predictor.predict_image_url(project.id, iteration.id, url=bag_url)\n",
    "\n",
    "for prediction in results.predictions:\n",
    "        print(\"\\t\" + prediction.tag_name + \": {0:.2f}%\".format(prediction.probability * 100))"
   ]
  },
  {
   "cell_type": "markdown",
   "metadata": {},
   "source": [
    "#### Ручная сумка"
   ]
  },
  {
   "cell_type": "code",
   "execution_count": 19,
   "metadata": {},
   "outputs": [
    {
     "name": "stdout",
     "output_type": "stream",
     "text": [
      "\tHandbag: 93.89%\n",
      "\tBag: 35.08%\n",
      "\tBriefcase: 1.03%\n",
      "\tSuitcase: 0.07%\n",
      "\tBackpack: 0.03%\n"
     ]
    }
   ],
   "source": [
    "handbag_url = \"http://tokishindenis.ru/upload_modules/goods/goods/full/c614eeeace923537f082342514ab0c63.JPG\"\n",
    "\n",
    "results = predictor.predict_image_url(project.id, iteration.id, url=handbag_url)\n",
    "\n",
    "for prediction in results.predictions:\n",
    "        print(\"\\t\" + prediction.tag_name + \": {0:.2f}%\".format(prediction.probability * 100))"
   ]
  },
  {
   "cell_type": "markdown",
   "metadata": {},
   "source": [
    "#### Портфели"
   ]
  },
  {
   "cell_type": "code",
   "execution_count": 22,
   "metadata": {},
   "outputs": [
    {
     "name": "stdout",
     "output_type": "stream",
     "text": [
      "\tSuitcase: 32.32%\n",
      "\tHandbag: 26.20%\n",
      "\tBriefcase: 22.34%\n",
      "\tBag: 4.23%\n",
      "\tBackpack: 1.30%\n"
     ]
    }
   ],
   "source": [
    "briefcase_url = \"https://s11.stc.all.kpcdn.net/share/i/12/10181815/inx960x640.jpg\"\n",
    "\n",
    "results = predictor.predict_image_url(project.id, iteration.id, url=briefcase_url)\n",
    "\n",
    "for prediction in results.predictions:\n",
    "        print(\"\\t\" + prediction.tag_name + \": {0:.2f}%\".format(prediction.probability * 100))"
   ]
  },
  {
   "cell_type": "code",
   "execution_count": null,
   "metadata": {},
   "outputs": [],
   "source": []
  }
 ],
 "metadata": {
  "kernelspec": {
   "display_name": "Python 3",
   "language": "python",
   "name": "python3"
  },
  "language_info": {
   "codemirror_mode": {
    "name": "ipython",
    "version": 3
   },
   "file_extension": ".py",
   "mimetype": "text/x-python",
   "name": "python",
   "nbconvert_exporter": "python",
   "pygments_lexer": "ipython3",
   "version": "3.6.4"
  }
 },
 "nbformat": 4,
 "nbformat_minor": 2
}
